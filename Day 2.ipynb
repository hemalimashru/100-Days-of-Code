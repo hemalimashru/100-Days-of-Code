{
 "cells": [
  {
   "cell_type": "code",
   "execution_count": null,
   "metadata": {},
   "outputs": [],
   "source": [
    "#Day 2"
   ]
  },
  {
   "cell_type": "code",
   "execution_count": 4,
   "metadata": {},
   "outputs": [
    {
     "name": "stdout",
     "output_type": "stream",
     "text": [
      "Please enter a number: \n",
      "77\n"
     ]
    },
    {
     "data": {
      "text/plain": [
       "14"
      ]
     },
     "execution_count": 4,
     "metadata": {},
     "output_type": "execute_result"
    }
   ],
   "source": [
    "#Ex 1 Data Types\n",
    "two_digit_number = input(\"Please enter a number: \\n\")\n",
    "two_digit_number\n",
    "first_digit = two_digit_number[0]\n",
    "second_digit = two_digit_number[1]\n",
    "result = int(first_digit) + int(second_digit)\n",
    "result"
   ]
  },
  {
   "cell_type": "code",
   "execution_count": 15,
   "metadata": {},
   "outputs": [
    {
     "name": "stdout",
     "output_type": "stream",
     "text": [
      "Please enter your height: 1.75\n",
      "Please enter your weight: 50\n"
     ]
    },
    {
     "data": {
      "text/plain": [
       "16"
      ]
     },
     "execution_count": 15,
     "metadata": {},
     "output_type": "execute_result"
    }
   ],
   "source": [
    "#Ex 2 BMI Calculator\n",
    "height = input(\"Please enter your height: \")\n",
    "weight = input(\"Please enter your weight: \")\n",
    "BMI = int(weight)/(float(height)*float(height))\n",
    "BMI_int = int(BMI)\n",
    "BMI_int"
   ]
  },
  {
   "cell_type": "code",
   "execution_count": 20,
   "metadata": {},
   "outputs": [
    {
     "name": "stdout",
     "output_type": "stream",
     "text": [
      "What is your current age? \n",
      "22\n",
      "You have 24820 days, 3536 weeks and, 816 months left.\n"
     ]
    }
   ],
   "source": [
    "#Ex 3 Life in Weeks\n",
    "age = input(\"What is your current age? \\n\")\n",
    "years = 90 - int(age)\n",
    "days = int(years) * 365\n",
    "weeks = int(years) * 52\n",
    "months = int(years) * 12\n",
    "print(f\"You have {days} days, {weeks} weeks and, {months} months left.\")"
   ]
  },
  {
   "cell_type": "code",
   "execution_count": 28,
   "metadata": {},
   "outputs": [
    {
     "name": "stdout",
     "output_type": "stream",
     "text": [
      "Welcome to the Tip Calculator.\n",
      "What was the total bill? $124.56\n",
      "What percentage tip would you like to give? 10, 12, or 15? 12\n",
      "How many people to split the bill? 7\n",
      "Each person should pay $19.93.\n"
     ]
    }
   ],
   "source": [
    "#Project - Tip Calculator\n",
    "welcome = print(\"Welcome to the Tip Calculator.\")\n",
    "welcome\n",
    "bill = float(input(\"What was the total bill? $\"))\n",
    "tip = int(input(\"What percentage tip would you like to give? 10, 12, or 15? \"))\n",
    "people = int(input(\"How many people to split the bill? \"))\n",
    "pay = ((bill/people) * (1 + tip / 100))\n",
    "payment = round(pay, 2)\n",
    "print(f\"Each person should pay ${payment}.\")"
   ]
  }
 ],
 "metadata": {
  "kernelspec": {
   "display_name": "Python 3",
   "language": "python",
   "name": "python3"
  },
  "language_info": {
   "codemirror_mode": {
    "name": "ipython",
    "version": 3
   },
   "file_extension": ".py",
   "mimetype": "text/x-python",
   "name": "python",
   "nbconvert_exporter": "python",
   "pygments_lexer": "ipython3",
   "version": "3.8.5"
  }
 },
 "nbformat": 4,
 "nbformat_minor": 4
}
