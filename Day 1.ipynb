{
 "cells": [
  {
   "cell_type": "code",
   "execution_count": null,
   "metadata": {},
   "outputs": [],
   "source": [
    "#Day 1"
   ]
  },
  {
   "cell_type": "code",
   "execution_count": 3,
   "metadata": {},
   "outputs": [
    {
     "name": "stdout",
     "output_type": "stream",
     "text": [
      "Day 1 - Python Print Function\n",
      "The function is declared like this:\n",
      "print('what to print')\n"
     ]
    }
   ],
   "source": [
    "#Ex 1 Print\n",
    "print(\"Day 1 - Python Print Function\\nThe function is declared like this:\\nprint('what to print')\")"
   ]
  },
  {
   "cell_type": "code",
   "execution_count": 17,
   "metadata": {},
   "outputs": [
    {
     "name": "stdout",
     "output_type": "stream",
     "text": [
      "Day 1 - String Manipulation\n",
      "String Concatenation is done with the \"+\" sign.\n",
      "e.g. print(\"Hello\" + \"world\")\n",
      "New lines can be created with a backslash and n.\n"
     ]
    }
   ],
   "source": [
    "#Ex 2 Debugging\n",
    "print(\"Day 1 - String Manipulation\")\n",
    "print('String Concatenation is done with the \"+\" sign.')\n",
    "print('e.g. print(\"Hello\" + \"world\")')\n",
    "print(\"New lines can be created with a backslash and n.\")"
   ]
  },
  {
   "cell_type": "code",
   "execution_count": 3,
   "metadata": {},
   "outputs": [
    {
     "name": "stdout",
     "output_type": "stream",
     "text": [
      "Please enter your name: Hemali\n",
      "6\n"
     ]
    }
   ],
   "source": [
    "#Ex 3 Inputs\n",
    "print(len(input(\"Please enter your name: \")))"
   ]
  },
  {
   "cell_type": "code",
   "execution_count": 6,
   "metadata": {},
   "outputs": [
    {
     "name": "stdout",
     "output_type": "stream",
     "text": [
      "a: 6\n",
      "b: 2\n",
      "a= 2\n",
      "b= 6\n"
     ]
    }
   ],
   "source": [
    "#Ex 4 Variables\n",
    "a = input(\"a: \")\n",
    "b = input(\"b: \")\n",
    "c = a\n",
    "a = b\n",
    "b=c\n",
    "print(\"a= \" + a)\n",
    "print(\"b= \" + b)"
   ]
  },
  {
   "cell_type": "code",
   "execution_count": 1,
   "metadata": {},
   "outputs": [
    {
     "name": "stdout",
     "output_type": "stream",
     "text": [
      "Welcome to the band name generator.\n",
      "Where did you grow up?\n",
      "Mumbai\n",
      "What is your pet's name?\n",
      "Muffin\n",
      "Your band name could be Mumbai Muffin\n"
     ]
    }
   ],
   "source": [
    "#Challenge Band Name Generator\n",
    "welcome = print(\"Welcome to the band name generator.\")\n",
    "welcome\n",
    "city = input(\"Where did you grow up?\\n\")\n",
    "city\n",
    "pet = input(\"What is your pet's name?\\n\")\n",
    "pet\n",
    "print(\"Your band name could be \" + city + \" \" + pet)"
   ]
  }
 ],
 "metadata": {
  "kernelspec": {
   "display_name": "Python 3",
   "language": "python",
   "name": "python3"
  },
  "language_info": {
   "codemirror_mode": {
    "name": "ipython",
    "version": 3
   },
   "file_extension": ".py",
   "mimetype": "text/x-python",
   "name": "python",
   "nbconvert_exporter": "python",
   "pygments_lexer": "ipython3",
   "version": "3.8.5"
  }
 },
 "nbformat": 4,
 "nbformat_minor": 4
}
