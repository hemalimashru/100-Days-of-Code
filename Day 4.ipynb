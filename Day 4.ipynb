{
 "cells": [
  {
   "cell_type": "code",
   "execution_count": null,
   "metadata": {},
   "outputs": [],
   "source": [
    "#Day 4"
   ]
  },
  {
   "cell_type": "code",
   "execution_count": 1,
   "metadata": {},
   "outputs": [
    {
     "name": "stdout",
     "output_type": "stream",
     "text": [
      "Tails\n"
     ]
    }
   ],
   "source": [
    "#Ex 1 Heads or Tails\n",
    "import random\n",
    "rand_side = random.randint(0,1)\n",
    "if rand_side == 1:\n",
    "    print(\"Heads\")\n",
    "else:\n",
    "    print(\"Tails\")"
   ]
  },
  {
   "cell_type": "code",
   "execution_count": 2,
   "metadata": {},
   "outputs": [
    {
     "name": "stdout",
     "output_type": "stream",
     "text": [
      "Give me everybody's names, separated by a comma. Hemali, Ninad, Rohan\n",
      "Rohan is going to buy the meal today!\n"
     ]
    }
   ],
   "source": [
    "#Ex 2 Banker Roulette\n",
    "names_string = input(\"Give me everybody's names, separated by a comma. \")\n",
    "names = names_string.split(\", \")\n",
    "num_items = len(names)\n",
    "random_choice = random.randint(0, num_items - 1)\n",
    "person_who_will_pay = names[random_choice]\n",
    "print(f\"{person_who_will_pay} is going to buy the meal today!\")"
   ]
  },
  {
   "cell_type": "code",
   "execution_count": 3,
   "metadata": {},
   "outputs": [
    {
     "name": "stdout",
     "output_type": "stream",
     "text": [
      "['⬜️', '⬜️', '⬜️']\n",
      "['⬜️', '⬜️', '⬜️']\n",
      "['⬜️', '⬜️', '⬜️']\n",
      "Where do you want to put the treasure? 23\n",
      "['⬜️', '⬜️', '⬜️']\n",
      "['⬜️', '⬜️', '⬜️']\n",
      "['⬜️', 'X', '⬜️']\n"
     ]
    }
   ],
   "source": [
    "#Ex 3 Treasure Map\n",
    "row1 = [\"⬜️\",\"⬜️\",\"⬜️\"]\n",
    "row2 = [\"⬜️\",\"⬜️\",\"⬜️\"]\n",
    "row3 = [\"⬜️\",\"⬜️\",\"⬜️\"]\n",
    "map = [row1, row2, row3]\n",
    "print(f\"{row1}\\n{row2}\\n{row3}\")\n",
    "position = input(\"Where do you want to put the treasure? \")\n",
    "hor = int(position[0])\n",
    "ver = int(position[1])\n",
    "map[ver - 1][hor - 1] = \"X\"\n",
    "print(f\"{row1}\\n{row2}\\n{row3}\")"
   ]
  },
  {
   "cell_type": "code",
   "execution_count": 23,
   "metadata": {},
   "outputs": [
    {
     "name": "stdout",
     "output_type": "stream",
     "text": [
      "What do you choose? Type 0 for Rock, 1 for Paper or 2 for Scissors. 2\n",
      "\n",
      "    _______\n",
      "---'   ____)____\n",
      "          ______)\n",
      "       __________)\n",
      "      (____)\n",
      "---.__(___)\n",
      "\n",
      "Computer chose: \n",
      "    _______\n",
      "---'   ____)\n",
      "      (_____)\n",
      "      (_____)\n",
      "      (____)\n",
      "---.__(___)\n",
      "\n",
      "You lose.\n"
     ]
    }
   ],
   "source": [
    "#Project - Rock Paper Scissors\n",
    "Rock = '''\n",
    "    _______\n",
    "---'   ____)\n",
    "      (_____)\n",
    "      (_____)\n",
    "      (____)\n",
    "---.__(___)\n",
    "'''\n",
    "\n",
    "Paper = '''\n",
    "    _______\n",
    "---'   ____)____\n",
    "          ______)\n",
    "          _______)\n",
    "         _______)\n",
    "---.__________)\n",
    "'''\n",
    "\n",
    "Scissors = '''\n",
    "    _______\n",
    "---'   ____)____\n",
    "          ______)\n",
    "       __________)\n",
    "      (____)\n",
    "---.__(___)\n",
    "'''\n",
    "options = [Rock, Paper, Scissors]\n",
    "choice = input(\"What do you choose? Type 0 for Rock, 1 for Paper or 2 for Scissors. \")\n",
    "if choice == \"0\":\n",
    "    print(Rock)\n",
    "elif choice == \"1\":\n",
    "    print(Paper)\n",
    "elif choice == \"2\":\n",
    "    print(Scissors)\n",
    "else:\n",
    "    print(\"Oops. The option you chose does not exist.\")\n",
    "op_items = len(options)\n",
    "ran_choice = random.randint(0, op_items - 1)\n",
    "if (choice == \"0\") or (choice == \"1\") or (choice == \"2\"):\n",
    "    computer = options[ran_choice]\n",
    "    print(f\"Computer chose: {computer}\")\n",
    "    if (computer == Rock and choice == \"2\") or (computer == Scissors and choice == \"1\") or (computer == Paper and choice == \"0\"):\n",
    "        print(\"You lose.\")\n",
    "    elif (computer == Rock and choice == \"0\") or (computer == Paper and choice == \"1\") or (computer == Scissors and choice == \"2\"):\n",
    "        print(\"It is a tie!\")\n",
    "    else:\n",
    "        print(\"You win!\")\n",
    "else:\n",
    "    print(\"Please enter a valid number.\")"
   ]
  }
 ],
 "metadata": {
  "kernelspec": {
   "display_name": "Python 3",
   "language": "python",
   "name": "python3"
  },
  "language_info": {
   "codemirror_mode": {
    "name": "ipython",
    "version": 3
   },
   "file_extension": ".py",
   "mimetype": "text/x-python",
   "name": "python",
   "nbconvert_exporter": "python",
   "pygments_lexer": "ipython3",
   "version": "3.8.5"
  }
 },
 "nbformat": 4,
 "nbformat_minor": 4
}
